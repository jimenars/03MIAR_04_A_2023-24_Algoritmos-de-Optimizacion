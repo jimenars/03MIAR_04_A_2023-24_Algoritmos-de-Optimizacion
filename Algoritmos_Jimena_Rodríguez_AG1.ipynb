{
  "nbformat": 4,
  "nbformat_minor": 0,
  "metadata": {
    "colab": {
      "provenance": [],
      "authorship_tag": "ABX9TyPPpk8W9r0nKHFpDg1OvvKC",
      "include_colab_link": true
    },
    "kernelspec": {
      "name": "python3",
      "display_name": "Python 3"
    },
    "language_info": {
      "name": "python"
    }
  },
  "cells": [
    {
      "cell_type": "markdown",
      "metadata": {
        "id": "view-in-github",
        "colab_type": "text"
      },
      "source": [
        "<a href=\"https://colab.research.google.com/github/jimenars/03MIAR_04_A_2023-24_Algoritmos-de-Optimizacion/blob/main/Algoritmos_Jimena_Rodr%C3%ADguez_AG1.ipynb\" target=\"_parent\"><img src=\"https://colab.research.google.com/assets/colab-badge.svg\" alt=\"Open In Colab\"/></a>"
      ]
    },
    {
      "cell_type": "markdown",
      "source": [
        "#Actividad Guiada 1\n",
        "#Jimena Rodríguez Sagredo\n",
        "\n",
        "Link repositorio github: https://github.com/jimenars/03MIAR_04_A_2023-24_Algoritmos-de-Optimizacion.git "
      ],
      "metadata": {
        "id": "ZXYQf9-O3N8L"
      }
    },
    {
      "cell_type": "code",
      "source": [
        "def torres_hanoi(N, origen, destino, pivote):\n",
        "  if N==1:\n",
        "    print(f\"Mover bloque desde {origen} a {destino}\")\n",
        "    return\n",
        "\n",
        "  torres_hanoi(N-1, origen, pivote, destino)\n",
        "  print(f\"Mover bloque desde {origen} a {destino}\")\n",
        "\n",
        "  torres_hanoi(N-1, pivote, destino, origen)\n",
        "\n",
        "torres_hanoi(4, 1, 3, 2)"
      ],
      "metadata": {
        "colab": {
          "base_uri": "https://localhost:8080/",
          "height": 0
        },
        "id": "LGr2YTQa3YMN",
        "outputId": "3fa1d489-dfc8-4bc0-8314-6b057839bc58"
      },
      "execution_count": 2,
      "outputs": [
        {
          "output_type": "stream",
          "name": "stdout",
          "text": [
            "Mover bloque desde 1 a 2\n",
            "Mover bloque desde 1 a 3\n",
            "Mover bloque desde 2 a 3\n",
            "Mover bloque desde 1 a 2\n",
            "Mover bloque desde 3 a 1\n",
            "Mover bloque desde 3 a 2\n",
            "Mover bloque desde 1 a 2\n",
            "Mover bloque desde 1 a 3\n",
            "Mover bloque desde 2 a 3\n",
            "Mover bloque desde 2 a 1\n",
            "Mover bloque desde 3 a 1\n",
            "Mover bloque desde 2 a 3\n",
            "Mover bloque desde 1 a 2\n",
            "Mover bloque desde 1 a 3\n",
            "Mover bloque desde 2 a 3\n"
          ]
        }
      ]
    },
    {
      "cell_type": "code",
      "source": [
        "# Devolver cambio\n",
        "def cambio_moneda(CANTIDAD,SISTEMA):\n",
        "  print(\"SISTEMA: \")\n",
        "  print(SISTEMA)\n",
        "\n",
        "  SOLUCION = [0 for i in range(len(SISTEMA))] # crear una lista de ceros \n",
        "  VALOR_ACUMULADO = 0\n",
        "\n",
        "  for i in range(len(SISTEMA)):\n",
        "    monedas = int((CANTIDAD-VALOR_ACUMULADO)/SISTEMA[i])\n",
        "    SOLUCION[i] = monedas\n",
        "    VALOR_ACUMULADO += monedas*SISTEMA[i]\n",
        "    if VALOR_ACUMULADO == CANTIDAD: break\n",
        "  return SOLUCION\n",
        "\n",
        "SISTEMA = [25,10,5,1]\n",
        "cambio_moneda(54,SISTEMA)"
      ],
      "metadata": {
        "colab": {
          "base_uri": "https://localhost:8080/"
        },
        "id": "DufpRAGVEOmx",
        "outputId": "acf3b82d-4090-4c40-cc7f-acf27bdea755"
      },
      "execution_count": 3,
      "outputs": [
        {
          "output_type": "stream",
          "name": "stdout",
          "text": [
            "SISTEMA: \n",
            "[25, 10, 5, 1]\n"
          ]
        },
        {
          "output_type": "execute_result",
          "data": {
            "text/plain": [
              "[2, 0, 0, 4]"
            ]
          },
          "metadata": {},
          "execution_count": 3
        }
      ]
    }
  ]
}